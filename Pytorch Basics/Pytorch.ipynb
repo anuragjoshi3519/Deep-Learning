{
 "cells": [
  {
   "cell_type": "code",
   "execution_count": 1,
   "metadata": {},
   "outputs": [],
   "source": [
    "import torch\n",
    "import numpy as np\n",
    "import matplotlib.pyplot as plt"
   ]
  },
  {
   "cell_type": "markdown",
   "metadata": {},
   "source": [
    "# Pytorch Basics"
   ]
  },
  {
   "cell_type": "code",
   "execution_count": 19,
   "metadata": {},
   "outputs": [
    {
     "name": "stdout",
     "output_type": "stream",
     "text": [
      "tensor([[1., 1.],\n",
      "        [1., 1.],\n",
      "        [1., 1.]])\n",
      "tensor([[0., 0.],\n",
      "        [0., 0.],\n",
      "        [0., 0.]])\n",
      "tensor([[ 0.9556, -0.1201,  2.1690],\n",
      "        [ 1.0425, -1.9769,  1.0871],\n",
      "        [ 0.0370, -0.3693,  0.0922]])\n"
     ]
    }
   ],
   "source": [
    "x = torch.ones(3,2)\n",
    "print(x)\n",
    "x = torch.zeros(3,2)\n",
    "print(x)\n",
    "x = torch.randn(3,3)\n",
    "print(x)"
   ]
  },
  {
   "cell_type": "code",
   "execution_count": 21,
   "metadata": {},
   "outputs": [
    {
     "name": "stdout",
     "output_type": "stream",
     "text": [
      "tensor([[2.3704e-08, 4.5674e-41, 1.4536e+21],\n",
      "        [3.0879e-41, 4.4842e-44, 0.0000e+00],\n",
      "        [1.7937e-43, 0.0000e+00, 1.4536e+21]])\n",
      "tensor([[0., 0., 0.],\n",
      "        [0., 0., 0.],\n",
      "        [0., 0., 0.]])\n"
     ]
    }
   ],
   "source": [
    "x = torch.empty(3,3)\n",
    "print(x)\n",
    "\n",
    "y = torch.zeros_like(x)\n",
    "print(y)"
   ]
  },
  {
   "cell_type": "code",
   "execution_count": 26,
   "metadata": {},
   "outputs": [
    {
     "name": "stdout",
     "output_type": "stream",
     "text": [
      "tensor([0.0000, 0.1000, 0.2000, 0.3000, 0.4000, 0.5000, 0.6000, 0.7000, 0.8000,\n",
      "        0.9000, 1.0000])\n"
     ]
    }
   ],
   "source": [
    "x =torch.linspace(0,1,steps=11)\n",
    "print(x)"
   ]
  },
  {
   "cell_type": "code",
   "execution_count": 39,
   "metadata": {},
   "outputs": [
    {
     "name": "stdout",
     "output_type": "stream",
     "text": [
      "tensor([[1, 2],\n",
      "        [3, 4],\n",
      "        [5, 6]])\n"
     ]
    }
   ],
   "source": [
    "x = torch.tensor([[1,2],\n",
    "                  [3,4], \n",
    "                  [5,6]])\n",
    "print(x)"
   ]
  },
  {
   "cell_type": "code",
   "execution_count": 42,
   "metadata": {},
   "outputs": [
    {
     "name": "stdout",
     "output_type": "stream",
     "text": [
      "torch.Size([3, 2])\n",
      "tensor([[1],\n",
      "        [3]])\n"
     ]
    }
   ],
   "source": [
    "print(x.size())\n",
    "print(x[:2, 0:1])"
   ]
  },
  {
   "cell_type": "code",
   "execution_count": 41,
   "metadata": {},
   "outputs": [
    {
     "name": "stdout",
     "output_type": "stream",
     "text": [
      "4\n"
     ]
    }
   ],
   "source": [
    "y = x[1,1]\n",
    "print(y.item())"
   ]
  },
  {
   "cell_type": "code",
   "execution_count": 44,
   "metadata": {},
   "outputs": [
    {
     "name": "stdout",
     "output_type": "stream",
     "text": [
      "tensor([[1, 2],\n",
      "        [3, 4],\n",
      "        [5, 6]])\n",
      "tensor([[1, 2, 3],\n",
      "        [4, 5, 6]])\n",
      "tensor([[1],\n",
      "        [2],\n",
      "        [3],\n",
      "        [4],\n",
      "        [5],\n",
      "        [6]])\n"
     ]
    }
   ],
   "source": [
    "print(x)\n",
    "\n",
    "y = x.view(2,3)  # reshape\n",
    "z = x.view(6,-1)\n",
    "print(y)\n",
    "print(z)"
   ]
  },
  {
   "cell_type": "code",
   "execution_count": 46,
   "metadata": {},
   "outputs": [
    {
     "name": "stdout",
     "output_type": "stream",
     "text": [
      "tensor([[1., 1., 1.],\n",
      "        [1., 1., 1.],\n",
      "        [1., 1., 1.]])\n",
      "tensor([[2., 2., 2.],\n",
      "        [2., 2., 2.],\n",
      "        [2., 2., 2.]])\n",
      "tensor([[3., 3., 3.],\n",
      "        [3., 3., 3.],\n",
      "        [3., 3., 3.]])\n",
      "tensor([[-1., -1., -1.],\n",
      "        [-1., -1., -1.],\n",
      "        [-1., -1., -1.]])\n",
      "tensor([[2., 2., 2.],\n",
      "        [2., 2., 2.],\n",
      "        [2., 2., 2.]])\n",
      "tensor([[0.5000, 0.5000, 0.5000],\n",
      "        [0.5000, 0.5000, 0.5000],\n",
      "        [0.5000, 0.5000, 0.5000]])\n"
     ]
    }
   ],
   "source": [
    "a = torch.ones(3,3)\n",
    "b = torch.ones(3,3)*2\n",
    "print(a)\n",
    "print(b)\n",
    "print(a+b)\n",
    "print(a-b)\n",
    "print(a*b)\n",
    "print(a/b)"
   ]
  },
  {
   "cell_type": "code",
   "execution_count": 48,
   "metadata": {},
   "outputs": [
    {
     "name": "stdout",
     "output_type": "stream",
     "text": [
      "tensor([[1., 1., 1.],\n",
      "        [1., 1., 1.],\n",
      "        [1., 1., 1.]])\n",
      "tensor([[3., 3., 3.],\n",
      "        [3., 3., 3.],\n",
      "        [3., 3., 3.]])\n"
     ]
    }
   ],
   "source": [
    "c = a.add(b)\n",
    "print(a)\n",
    "print(c)"
   ]
  },
  {
   "cell_type": "code",
   "execution_count": 49,
   "metadata": {},
   "outputs": [
    {
     "name": "stdout",
     "output_type": "stream",
     "text": [
      "tensor([[3., 3., 3.],\n",
      "        [3., 3., 3.],\n",
      "        [3., 3., 3.]])\n",
      "tensor([[3., 3., 3.],\n",
      "        [3., 3., 3.],\n",
      "        [3., 3., 3.]])\n"
     ]
    }
   ],
   "source": [
    "c = a.add_(b)  # updates a as well\n",
    "print(a)\n",
    "print(c)"
   ]
  },
  {
   "cell_type": "markdown",
   "metadata": {},
   "source": [
    "# CPU vs GPU"
   ]
  },
  {
   "cell_type": "code",
   "execution_count": 2,
   "metadata": {},
   "outputs": [
    {
     "name": "stdout",
     "output_type": "stream",
     "text": [
      "CPU times: user 1min 9s, sys: 564 ms, total: 1min 10s\n",
      "Wall time: 40.1 s\n"
     ]
    }
   ],
   "source": [
    "%%time\n",
    "\n",
    "for i in range(1):\n",
    "    x = np.random.randn(10000,10000)\n",
    "    y= np.random.randn(10000,10000)\n",
    "    z = np.matmul(x,y)"
   ]
  },
  {
   "cell_type": "code",
   "execution_count": 3,
   "metadata": {},
   "outputs": [
    {
     "name": "stdout",
     "output_type": "stream",
     "text": [
      "CPU times: user 32 s, sys: 491 ms, total: 32.5 s\n",
      "Wall time: 18 s\n"
     ]
    }
   ],
   "source": [
    "%%time\n",
    "\n",
    "for i in range(1):\n",
    "    x = torch.randn([10000,10000])\n",
    "    y = torch.randn([10000,10000])\n",
    "    z = torch.matmul(x,y)"
   ]
  },
  {
   "cell_type": "code",
   "execution_count": 5,
   "metadata": {},
   "outputs": [],
   "source": [
    "arr = np.ones((4,3))"
   ]
  },
  {
   "cell_type": "code",
   "execution_count": 6,
   "metadata": {},
   "outputs": [],
   "source": [
    "arr_torch = torch.from_numpy(arr)"
   ]
  },
  {
   "cell_type": "code",
   "execution_count": 16,
   "metadata": {},
   "outputs": [
    {
     "name": "stdout",
     "output_type": "stream",
     "text": [
      "[[1. 1. 1.]\n",
      " [1. 1. 1.]\n",
      " [1. 1. 1.]\n",
      " [1. 1. 1.]]\n",
      "tensor([[1., 1., 1.],\n",
      "        [1., 1., 1.],\n",
      "        [1., 1., 1.],\n",
      "        [1., 1., 1.]], dtype=torch.float64)\n"
     ]
    }
   ],
   "source": [
    "print(arr)\n",
    "print(arr_torch)"
   ]
  },
  {
   "cell_type": "code",
   "execution_count": 8,
   "metadata": {},
   "outputs": [],
   "source": [
    "arr_torch_1 = torch.randn([4,4])\n",
    "arr_numpy_1 = arr_torch_1.numpy()"
   ]
  },
  {
   "cell_type": "code",
   "execution_count": 12,
   "metadata": {},
   "outputs": [
    {
     "name": "stdout",
     "output_type": "stream",
     "text": [
      "tensor([[-1.7610,  1.8062,  2.1688,  0.9464],\n",
      "        [-1.0032,  0.4920, -0.6261, -0.9566],\n",
      "        [ 0.1397, -0.7095, -1.0547, -0.7314],\n",
      "        [-0.1855,  1.5163,  0.4081, -0.3007]])\n",
      "[[-1.7609632   1.8061855   2.168805    0.9464382 ]\n",
      " [-1.0032352   0.49198866 -0.6261226  -0.9566483 ]\n",
      " [ 0.13966207 -0.7094885  -1.0547111  -0.73141515]\n",
      " [-0.18548816  1.5163004   0.4081175  -0.30071533]]\n"
     ]
    }
   ],
   "source": [
    "print(arr_torch_1)\n",
    "print(arr_numpy_1)"
   ]
  },
  {
   "cell_type": "code",
   "execution_count": 4,
   "metadata": {},
   "outputs": [
    {
     "name": "stdout",
     "output_type": "stream",
     "text": [
      "GeForce 940MX\n",
      "<torch.cuda.device object at 0x7ff1180b77d0>\n"
     ]
    }
   ],
   "source": [
    "print(torch.cuda.get_device_name())\n",
    "print(torch.cuda.device(0))"
   ]
  },
  {
   "cell_type": "code",
   "execution_count": 2,
   "metadata": {},
   "outputs": [],
   "source": [
    "#*****************************\n",
    "cuda0 = torch.device('cuda:0')\n",
    "#*****************************"
   ]
  },
  {
   "cell_type": "code",
   "execution_count": 19,
   "metadata": {},
   "outputs": [
    {
     "name": "stdout",
     "output_type": "stream",
     "text": [
      "CPU times: user 887 µs, sys: 506 µs, total: 1.39 ms\n",
      "Wall time: 1.41 ms\n"
     ]
    }
   ],
   "source": [
    "%%time\n",
    "\n",
    "for i in range(10):\n",
    "    x = torch.randn([10000,10000],device=cuda0)\n",
    "    y = torch.randn([10000,10000],device=cuda0)\n",
    "    z = torch.matmul(x,y)"
   ]
  },
  {
   "cell_type": "markdown",
   "metadata": {},
   "source": [
    "# AutoGrad"
   ]
  },
  {
   "cell_type": "code",
   "execution_count": 110,
   "metadata": {
    "scrolled": true
   },
   "outputs": [
    {
     "name": "stdout",
     "output_type": "stream",
     "text": [
      "1.0\n",
      "1.8771047592163086\n",
      "2.182447671890259\n",
      "2.2452340126037598\n",
      "2.216661214828491\n",
      "2.1628901958465576\n",
      "2.110424518585205\n",
      "2.067969560623169\n",
      "2.0367579460144043\n",
      "2.0152785778045654\n",
      "2.0013344287872314\n",
      "1.9928582906723022\n",
      "1.9881703853607178\n",
      "1.9860048294067383\n",
      "1.9854507446289062\n",
      "1.9858753681182861\n",
      "1.9868513345718384\n",
      "1.9880980253219604\n",
      "1.9894373416900635\n",
      "1.9907605648040771\n",
      "1.9920053482055664\n",
      "1.9931401014328003\n",
      "1.9941520690917969\n",
      "1.9950402975082397\n",
      "1.9958107471466064\n",
      "1.9964733123779297\n",
      "1.9970388412475586\n",
      "1.9975191354751587\n",
      "1.9979251623153687\n",
      "1.9982672929763794\n",
      "1.9985547065734863\n",
      "1.9987956285476685\n",
      "1.9989972114562988\n",
      "1.999165654182434\n",
      "1.9993062019348145\n",
      "1.9994232654571533\n",
      "1.9995207786560059\n",
      "1.99960196018219\n",
      "1.9996694326400757\n",
      "1.9997254610061646\n",
      "1.9997721910476685\n",
      "1.9998109340667725\n",
      "1.9998431205749512\n",
      "1.9998698234558105\n",
      "1.999891996383667\n",
      "1.9999103546142578\n",
      "1.9999256134033203\n",
      "1.9999382495880127\n",
      "1.9999487400054932\n",
      "1.99995756149292\n",
      "1.9999648332595825\n",
      "1.9999709129333496\n",
      "1.9999758005142212\n",
      "1.9999799728393555\n",
      "1.9999834299087524\n",
      "1.9999862909317017\n",
      "1.9999886751174927\n",
      "1.9999905824661255\n",
      "1.9999922513961792\n",
      "1.9999935626983643\n",
      "1.9999946355819702\n",
      "1.9999955892562866\n",
      "1.999996304512024\n",
      "1.9999969005584717\n",
      "1.9999973773956299\n",
      "1.999997854232788\n",
      "1.9999982118606567\n",
      "1.999998688697815\n",
      "1.999998927116394\n",
      "1.9999990463256836\n",
      "1.9999991655349731\n",
      "1.9999994039535522\n",
      "1.9999995231628418\n",
      "1.9999995231628418\n",
      "1.9999995231628418\n",
      "1.9999996423721313\n",
      "1.999999761581421\n",
      "1.999999761581421\n",
      "1.999999761581421\n",
      "1.999999761581421\n",
      "1.999999761581421\n",
      "1.999999761581421\n",
      "1.999999761581421\n",
      "1.999999761581421\n",
      "1.999999761581421\n",
      "1.999999761581421\n",
      "1.999999761581421\n",
      "1.999999761581421\n",
      "1.999999761581421\n",
      "1.999999761581421\n",
      "1.999999761581421\n",
      "1.999999761581421\n",
      "1.999999761581421\n",
      "1.999999761581421\n",
      "1.999999761581421\n",
      "1.999999761581421\n",
      "1.999999761581421\n",
      "1.999999761581421\n",
      "1.999999761581421\n",
      "1.999999761581421\n",
      "1.999999761581421\n",
      "1.999999761581421\n",
      "1.999999761581421\n",
      "1.999999761581421\n",
      "1.999999761581421\n",
      "1.999999761581421\n",
      "1.999999761581421\n",
      "1.999999761581421\n",
      "1.999999761581421\n",
      "1.999999761581421\n",
      "1.999999761581421\n",
      "1.999999761581421\n",
      "1.999999761581421\n",
      "1.999999761581421\n",
      "1.999999761581421\n",
      "1.999999761581421\n",
      "1.999999761581421\n",
      "1.999999761581421\n",
      "1.999999761581421\n",
      "1.999999761581421\n",
      "1.999999761581421\n",
      "1.999999761581421\n",
      "1.999999761581421\n",
      "1.999999761581421\n",
      "1.999999761581421\n",
      "1.999999761581421\n",
      "1.999999761581421\n",
      "1.999999761581421\n",
      "1.999999761581421\n",
      "1.999999761581421\n",
      "1.999999761581421\n",
      "1.999999761581421\n",
      "1.999999761581421\n",
      "1.999999761581421\n",
      "1.999999761581421\n",
      "1.999999761581421\n",
      "1.999999761581421\n",
      "1.999999761581421\n",
      "1.999999761581421\n",
      "1.999999761581421\n",
      "1.999999761581421\n",
      "1.999999761581421\n",
      "1.999999761581421\n",
      "1.999999761581421\n",
      "1.999999761581421\n",
      "1.999999761581421\n",
      "1.999999761581421\n",
      "1.999999761581421\n",
      "1.999999761581421\n",
      "1.999999761581421\n",
      "1.999999761581421\n",
      "1.999999761581421\n",
      "1.999999761581421\n",
      "1.999999761581421\n",
      "1.999999761581421\n",
      "1.999999761581421\n",
      "1.999999761581421\n",
      "1.999999761581421\n",
      "1.999999761581421\n",
      "1.999999761581421\n",
      "1.999999761581421\n",
      "1.999999761581421\n",
      "1.999999761581421\n",
      "1.999999761581421\n",
      "1.999999761581421\n",
      "1.999999761581421\n",
      "1.999999761581421\n",
      "1.999999761581421\n",
      "1.999999761581421\n",
      "1.999999761581421\n",
      "1.999999761581421\n",
      "1.999999761581421\n",
      "1.999999761581421\n",
      "1.999999761581421\n",
      "1.999999761581421\n",
      "1.999999761581421\n",
      "1.999999761581421\n",
      "1.999999761581421\n",
      "1.999999761581421\n",
      "1.999999761581421\n",
      "1.999999761581421\n",
      "1.999999761581421\n",
      "1.999999761581421\n",
      "1.999999761581421\n",
      "1.999999761581421\n",
      "1.999999761581421\n",
      "1.999999761581421\n",
      "1.999999761581421\n",
      "1.999999761581421\n",
      "1.999999761581421\n",
      "1.999999761581421\n",
      "1.999999761581421\n",
      "1.999999761581421\n",
      "1.999999761581421\n",
      "1.999999761581421\n",
      "1.999999761581421\n",
      "1.999999761581421\n",
      "1.999999761581421\n",
      "1.999999761581421\n",
      "1.999999761581421\n",
      "tensor([[5.0000],\n",
      "        [5.0000]], requires_grad=True) tensor([2.0000], requires_grad=True)\n"
     ]
    }
   ],
   "source": [
    "w = torch.randn([2,1], requires_grad=True)\n",
    "b = torch.tensor([1.], requires_grad=True)\n",
    "\n",
    "x = torch.randn([20,2])\n",
    "y = torch.from_numpy( 5*np.sum(x.numpy(),axis=1,keepdims=True) +2 )\n",
    "\n",
    "for _ in range(200):\n",
    "    \n",
    "    y_hat = torch.matmul(x,w)+b\n",
    "    loss = torch.sum((y-y_hat)**2)  \n",
    "    \n",
    "    loss.backward()\n",
    "    print(b.item())\n",
    "    with torch.no_grad():\n",
    "        w -= 0.01*w.grad\n",
    "        b -= 0.01*b.grad\n",
    "        w.grad.zero_()\n",
    "        b.grad.zero_()\n",
    "        \n",
    "print(w,b)  "
   ]
  },
  {
   "cell_type": "code",
   "execution_count": null,
   "metadata": {},
   "outputs": [],
   "source": []
  },
  {
   "cell_type": "code",
   "execution_count": null,
   "metadata": {},
   "outputs": [],
   "source": []
  },
  {
   "cell_type": "code",
   "execution_count": null,
   "metadata": {},
   "outputs": [],
   "source": []
  }
 ],
 "metadata": {
  "kernelspec": {
   "display_name": "Python 3",
   "language": "python",
   "name": "python3"
  },
  "language_info": {
   "codemirror_mode": {
    "name": "ipython",
    "version": 3
   },
   "file_extension": ".py",
   "mimetype": "text/x-python",
   "name": "python",
   "nbconvert_exporter": "python",
   "pygments_lexer": "ipython3",
   "version": "3.7.4"
  }
 },
 "nbformat": 4,
 "nbformat_minor": 2
}
